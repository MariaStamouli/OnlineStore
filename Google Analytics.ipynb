{
 "cells": [
  {
   "cell_type": "code",
   "execution_count": 1,
   "id": "8120ea3e",
   "metadata": {},
   "outputs": [],
   "source": [
    "# enable BiqQeury API\n",
    "import pandas as pd\n",
    "from google.cloud import bigquery\n",
    "#create json file\n",
    "import os\n",
    "os.environ['GOOGLE_APPLICATION_CREDENTIALS'] = 'leafy-habitat-233611-0c4256566ed5.json'\n",
    "client = bigquery.Client()"
   ]
  },
  {
   "cell_type": "markdown",
   "id": "8a716764",
   "metadata": {},
   "source": [
    "# Story 1: E-Commerce Conversion Rate"
   ]
  },
  {
   "cell_type": "markdown",
   "id": "0861030b",
   "metadata": {},
   "source": [
    "### As a Product owner I need to know the ecommerce Conversion rate for the day X. I’d like to be able to breakdown the above over up to two dimensions : \n",
    "\n",
    " **- UserType (whether the session refers to a New or Returning user)**<br><br>\n",
    " **- Platform (whether the session occurred into desktop; ie Web or Mobile)**"
   ]
  },
  {
   "cell_type": "markdown",
   "id": "593a9c19",
   "metadata": {},
   "source": [
    "### Conversion Rate Definition "
   ]
  },
  {
   "cell_type": "markdown",
   "id": "9775bd80",
   "metadata": {},
   "source": [
    "Generally, conversion rate is a metric that shows that a visitor of a website provokes an action. An action can be a purchase or just a newsletter registration. Conversion rate is computed as the number of (e.g. purchases) divided by the total number of sessions (in our dataset every row represents a session).\n",
    "\n",
    "Regarding our dataset, we can use specific fields to compute the conversion rate.\n",
    "One field is the **\"hits.transaction.transactionId\"**. In case this field is not null, it means that a transaction is happening.\n",
    "Another field is the **\"hits.eCommerceAction.action_type\"**. \n",
    "When this field has the value '6' it means that a user has completed to a purchase."
   ]
  },
  {
   "cell_type": "code",
   "execution_count": 2,
   "id": "1dfc4bc5",
   "metadata": {},
   "outputs": [],
   "source": [
    "def categorise(row):  \n",
    "    if row['visitNumber'] == 1:\n",
    "        return 'New'\n",
    "    else:\n",
    "        return 'Returning'"
   ]
  },
  {
   "cell_type": "code",
   "execution_count": 3,
   "id": "535571db",
   "metadata": {},
   "outputs": [],
   "source": [
    "def categorise_action(row):  \n",
    "    if row['eCommerceAction.action_type'] == '1':\n",
    "        return 'Click through of product lists'\n",
    "    elif row['eCommerceAction.action_type'] == '2':\n",
    "        return 'Product detail views'\n",
    "    elif row['eCommerceAction.action_type'] == '3':\n",
    "        return 'Add product(s) to cart'\n",
    "    elif row['eCommerceAction.action_type'] == '4':\n",
    "        return 'Remove product(s) from cart'\n",
    "    elif row['eCommerceAction.action_type'] == '5':\n",
    "        return 'Check out'\n",
    "    elif row['eCommerceAction.action_type'] == '6':\n",
    "        return 'Completed purchase'\n",
    "    elif row['eCommerceAction.action_type'] == '7':\n",
    "        return 'Refund of purchase'\n",
    "    elif row['eCommerceAction.action_type'] == '8':\n",
    "        return 'Checkout options'\n",
    "    else:\n",
    "        return 'Unknown'"
   ]
  },
  {
   "cell_type": "code",
   "execution_count": 4,
   "id": "9a05737e",
   "metadata": {},
   "outputs": [],
   "source": [
    "def conv_rate(df):\n",
    "    \n",
    "    conv_rate_new = df[df['User']=='New']['eCommerceAction.action_type'].value_counts().to_frame().loc['6']/len(df[df['User']=='New'])\n",
    "\n",
    "    conv_rate_ret = df[df['User']=='Returning']['eCommerceAction.action_type'].value_counts().to_frame().loc['6']/len(df[df['User']=='Returning'])\n",
    "    \n",
    "    conversion_rate = pd.DataFrame([[conv_rate_new[0],conv_rate_ret[0]]],columns=['ConversionNew','ConversionReturning'])\n",
    "    \n",
    "    return conversion_rate"
   ]
  },
  {
   "cell_type": "code",
   "execution_count": 5,
   "id": "fe53c130",
   "metadata": {},
   "outputs": [],
   "source": [
    "def conv_rate_dvc(df):\n",
    "    \n",
    "    conv_rate_desk = df[df['deviceCategory']=='desktop']['eCommerceAction.action_type'].value_counts().to_frame().loc['6']/len(df[df['deviceCategory']=='desktop'])\n",
    "    conv_rate_mob = df[df['deviceCategory']=='mobile']['eCommerceAction.action_type'].value_counts().to_frame().loc['6']/len(df[df['deviceCategory']=='mobile'])\n",
    "    conversion_tab = df[df['deviceCategory']=='tablet']['eCommerceAction.action_type'].value_counts().to_frame().loc['6']/len(df[df['deviceCategory']=='tablet'])\n",
    "    conversion_rate = pd.DataFrame([[conv_rate_desk[0],conv_rate_mob[0],conversion_tab[0]]],columns=['ConversionDesktop','ConversionMobile','ConversionTablet'])    \n",
    "    \n",
    "    return conversion_rate"
   ]
  },
  {
   "cell_type": "code",
   "execution_count": 6,
   "id": "d493c6da",
   "metadata": {},
   "outputs": [],
   "source": [
    "def conv_rate_oper(df):\n",
    "    \n",
    "    conv_rate_and = df[df['operatingSystem']=='Android']['eCommerceAction.action_type'].value_counts().to_frame().loc['6']/len(df[df['operatingSystem']=='Android'])\n",
    "    conv_rate_ios = df[df['operatingSystem']=='iOS']['eCommerceAction.action_type'].value_counts().to_frame().loc['6']/len(df[df['operatingSystem']=='iOS'])\n",
    "    conversion_chrome = df[df['operatingSystem']=='Chrome OS']['eCommerceAction.action_type'].value_counts().to_frame().loc['6']/len(df[df['operatingSystem']=='Chrome OS'])\n",
    "    conv_rate_lin = df[df['operatingSystem']=='Linux']['eCommerceAction.action_type'].value_counts().to_frame().loc['6']/len(df[df['operatingSystem']=='Linux'])\n",
    "    conv_rate_mac = df[df['operatingSystem']=='Macintosh']['eCommerceAction.action_type'].value_counts().to_frame().loc['6']/len(df[df['operatingSystem']=='Macintosh'])\n",
    "    conversion_win = df[df['operatingSystem']=='Windows']['eCommerceAction.action_type'].value_counts().to_frame().loc['6']/len(df[df['operatingSystem']=='Windows'])\n",
    "    \n",
    "    \n",
    "    conversion_rate = pd.DataFrame([[conv_rate_and[0],\\\n",
    "                                     conv_rate_ios[0],\\\n",
    "                                     conversion_chrome[0],\\\n",
    "                                     conv_rate_lin[0],\\\n",
    "                                      conv_rate_mac[0],\\\n",
    "                                      conversion_win[0]\\\n",
    "                                     ]],columns=['ConversionAndroid','ConversioniOS','ConversionChrome',\\\n",
    "                                                 'ConversionLinux','ConversionMacintosh','ConversionWindows']\n",
    "                                    )    \n",
    "    \n",
    "    return conversion_rate"
   ]
  },
  {
   "cell_type": "code",
   "execution_count": 7,
   "id": "cd2b135e",
   "metadata": {},
   "outputs": [],
   "source": [
    "# Conversion Rate based on user category\n",
    "def query_users(start_date,end_date): \n",
    "   \n",
    "    my_query = \"\"\"\n",
    "    \n",
    "      SELECT  date,\n",
    "              visitNumber,\n",
    "              h.eCommerceAction.action_type\n",
    "        FROM `bigquery-public-data.google_analytics_sample.ga_sessions_*`, UNNEST(hits) as h\n",
    "       WHERE _table_suffix BETWEEN @start_date\n",
    "                               AND @end_date\n",
    "         AND  h.eCommerceAction.action_type<>'0'\n",
    "       \n",
    "    \"\"\"\n",
    "    job_config = bigquery.QueryJobConfig(\n",
    "    query_parameters = [\n",
    "         bigquery.ScalarQueryParameter('start_date', 'STRING', start_date),\n",
    "         bigquery.ScalarQueryParameter('end_date', 'STRING', end_date),\n",
    "       ]\n",
    "   )\n",
    "    \n",
    "    query_job = client.query(my_query, job_config=job_config)  \n",
    "    \n",
    "    results = query_job.result()  \n",
    "    \n",
    "    #for row in results:\n",
    "    #    print(row)\n",
    "    \n",
    "    l=[]\n",
    "    for row in results:\n",
    "        l.append([row.date, row.visitNumber,row.action_type])\n",
    "    pd_visits = pd.DataFrame(l,columns=['date','visitNumber','eCommerceAction.action_type'])\n",
    "    pd_visits['User'] = pd_visits.apply(lambda row: categorise(row), axis=1)\n",
    "    pd_visits['ActionDesc'] = pd_visits.apply(lambda row: categorise_action(row), axis=1)  \n",
    "    conversion = conv_rate(pd_visits)\n",
    "    return conversion"
   ]
  },
  {
   "cell_type": "code",
   "execution_count": 8,
   "id": "92f65c40",
   "metadata": {},
   "outputs": [],
   "source": [
    "# Conversion Rate based on device category\n",
    "def query_devices(start_date,end_date): \n",
    "   \n",
    "    my_query = \"\"\"\n",
    "    \n",
    "      SELECT  date,\n",
    "              device.deviceCategory,\n",
    "              h.eCommerceAction.action_type\n",
    "        FROM `bigquery-public-data.google_analytics_sample.ga_sessions_*`, UNNEST(hits) as h\n",
    "       WHERE _table_suffix BETWEEN @start_date\n",
    "                               AND @end_date\n",
    "         AND  h.eCommerceAction.action_type<>'0'\n",
    "       \n",
    "    \"\"\"   \n",
    "    \n",
    "    job_config = bigquery.QueryJobConfig(\n",
    "    query_parameters = [\n",
    "         bigquery.ScalarQueryParameter('start_date', 'STRING', start_date),\n",
    "         bigquery.ScalarQueryParameter('end_date', 'STRING', end_date),\n",
    "       ]\n",
    "   )\n",
    "    \n",
    "    query_job = client.query(my_query, job_config=job_config)  \n",
    "    \n",
    "    results = query_job.result()  \n",
    "    \n",
    "    #for row in results:\n",
    "    #    print(row)\n",
    "    \n",
    "    l=[]\n",
    "    for row in results:\n",
    "        l.append([row.date, row.deviceCategory,row.action_type])\n",
    "    pd_devices = pd.DataFrame(l,columns=['date','deviceCategory','eCommerceAction.action_type'])\n",
    "    pd_devices['ActionDesc'] = pd_devices.apply(lambda row: categorise_action(row), axis=1)\n",
    "    \n",
    "    conversion = conv_rate_dvc(pd_devices)\n",
    "    return conversion"
   ]
  },
  {
   "cell_type": "code",
   "execution_count": 9,
   "id": "81f6d3e2",
   "metadata": {},
   "outputs": [],
   "source": [
    "# Conversion Rate based on platform category\n",
    "def query_platform(start_date,end_date): \n",
    "   \n",
    "    my_query = \"\"\"\n",
    "    \n",
    "      SELECT  date,\n",
    "              device.operatingSystem,\n",
    "              device.isMobile,\n",
    "              h.eCommerceAction.action_type\n",
    "        FROM `bigquery-public-data.google_analytics_sample.ga_sessions_*`, UNNEST(hits) as h\n",
    "       WHERE _table_suffix BETWEEN @start_date\n",
    "                               AND @end_date\n",
    "         AND  h.eCommerceAction.action_type<>'0'\n",
    "       \n",
    "    \"\"\"   \n",
    "    \n",
    "    job_config = bigquery.QueryJobConfig(\n",
    "    query_parameters = [\n",
    "         bigquery.ScalarQueryParameter('start_date', 'STRING', start_date),\n",
    "         bigquery.ScalarQueryParameter('end_date', 'STRING', end_date),\n",
    "       ]\n",
    "   )\n",
    "    \n",
    "    query_job = client.query(my_query, job_config=job_config)  \n",
    "    \n",
    "    results = query_job.result()  \n",
    "    \n",
    "    #for row in results:\n",
    "    #    print(row)\n",
    "    \n",
    "    l=[]\n",
    "    for row in results:\n",
    "        l.append([row.date, row.operatingSystem,row.isMobile,row.action_type])\n",
    "    pd_platform = pd.DataFrame(l,columns=['date','operatingSystem','isMobile','eCommerceAction.action_type'])\n",
    "    pd_platform['ActionDesc'] = pd_platform.apply(lambda row: categorise_action(row), axis=1)\n",
    "    \n",
    "    conversion = conv_rate_oper(pd_platform)\n",
    "    return conversion, pd_platform"
   ]
  },
  {
   "cell_type": "code",
   "execution_count": 10,
   "id": "360680ec",
   "metadata": {},
   "outputs": [
    {
     "name": "stdout",
     "output_type": "stream",
     "text": [
      "   ConversionNew  ConversionReturning\n",
      "0       0.006396               0.0225\n"
     ]
    }
   ],
   "source": [
    "#Test for specific days (User category)\n",
    "try:\n",
    "    print(query_users('20160801','20160801'))\n",
    "except:\n",
    "    print('No purchases for specific category of user and specific day. Try to change day or extend the period') "
   ]
  },
  {
   "cell_type": "code",
   "execution_count": 11,
   "id": "d6455750",
   "metadata": {},
   "outputs": [
    {
     "name": "stdout",
     "output_type": "stream",
     "text": [
      "No purchases for specific device and day. Try to change day or extend the period\n"
     ]
    }
   ],
   "source": [
    "#Test for specific days (Device category)\n",
    "try:\n",
    "    print(query_devices('20160801','20160801'))\n",
    "except:\n",
    "    print('No purchases for specific device and day. Try to change day or extend the period') "
   ]
  },
  {
   "cell_type": "code",
   "execution_count": 12,
   "id": "048b2c46",
   "metadata": {},
   "outputs": [
    {
     "name": "stdout",
     "output_type": "stream",
     "text": [
      "   ConversionAndroid  ConversioniOS  ConversionChrome  ConversionLinux  \\\n",
      "0            0.00771       0.007569           0.02146         0.020625   \n",
      "\n",
      "   ConversionMacintosh  ConversionWindows  \n",
      "0             0.021028           0.011571  \n"
     ]
    }
   ],
   "source": [
    "#Test for specific days (Operating System)\n",
    "try:\n",
    "    print(query_platform('20160801','20161001')[0])\n",
    "except:\n",
    "    print('No purchases for specific device and day. Try to change day or extend the period') "
   ]
  },
  {
   "cell_type": "code",
   "execution_count": null,
   "id": "d6b6ae9e",
   "metadata": {},
   "outputs": [],
   "source": []
  },
  {
   "cell_type": "markdown",
   "id": "675be071",
   "metadata": {},
   "source": [
    "# Story 2: Customer Time to convert"
   ]
  },
  {
   "cell_type": "markdown",
   "id": "ef224fb0",
   "metadata": {},
   "source": [
    "### As a Product owner I’d like a list of all users with the timestamp of their first session and their time to convert"
   ]
  },
  {
   "cell_type": "markdown",
   "id": "4bb4e905",
   "metadata": {},
   "source": [
    "-The first timestamp of a user is the field **visitStartTime** from the dataset.<br><br>\n",
    "-The time to convert is given by the field **time**."
   ]
  },
  {
   "cell_type": "code",
   "execution_count": 13,
   "id": "8ecefe98",
   "metadata": {},
   "outputs": [],
   "source": [
    "#import datetime\n",
    "#def convert_from_ms( milliseconds ): \n",
    "#    \n",
    "#    \"\"\"\n",
    "#    This function converts milliseconds to string with hour,minute, second and returns a datetime timestamp\n",
    "#        \n",
    "#    \"\"\"\n",
    "#    \n",
    "#    seconds, milliseconds = divmod(milliseconds,1000) \n",
    "#    minutes, seconds = divmod(seconds, 60) \n",
    "#    hours, minutes = divmod(minutes, 60) \n",
    "#    days, hours = divmod(hours, 24) \n",
    "#    seconds = seconds + milliseconds/1000 \n",
    "#    seconds = int(seconds) #round to the below integer#\n",
    "#    \n",
    "#    timestring  = str(hours)+':'+str(minutes)+':'+str(seconds)\n",
    "#    \n",
    "#    result = datetime.datetime.strptime(timestring, '%H:%M:%S')\n",
    "#    \n",
    "#    return result"
   ]
  },
  {
   "cell_type": "code",
   "execution_count": 14,
   "id": "dc82ad02",
   "metadata": {},
   "outputs": [],
   "source": [
    "# First timestamp of a user & conversion time\n",
    "def query_conv_time(): \n",
    "    \n",
    "    \n",
    "    table_id = \"leafy-habitat-233611.VisitorsConversion.VisitorsConv\"\n",
    "\n",
    "    schema = [\n",
    "        bigquery.SchemaField(\"fullVisitorId\", \"STRING\", mode=\"REQUIRED\"),\n",
    "        bigquery.SchemaField(\"visitStartTime\", \"TIMESTAMP\", mode=\"REQUIRED\"),\n",
    "         bigquery.SchemaField(\"timeConvert\", \"TIMESTAMP\", mode=\"REQUIRED\"),\n",
    "    ]\n",
    "    \n",
    "    table = bigquery.Table(table_id, schema=schema)\n",
    "    table = client.create_table(table)  # Make an API request.\n",
    "    print(\n",
    "        \"Created table {}.{}.{}\".format(table.project, table.dataset_id, table.table_id)\n",
    "    )\n",
    "    \n",
    "    job_config = bigquery.QueryJobConfig(destination=table_id)\n",
    "    \n",
    "    \n",
    "    my_query = \"\"\"\n",
    "        \n",
    "    SELECT \n",
    "            fullVisitorId,\n",
    "            --min(visitStartTime) AS visitStartTime,\n",
    "            --max(h.time) AS timeConvert,\n",
    "            TIMESTAMP_SECONDS(min(visitStartTime)) AS visitStartTime,\n",
    "            TIMESTAMP_MILLIS(max(h.time)) as timeConvert\n",
    "    FROM `bigquery-public-data.google_analytics_sample.ga_sessions_*`, UNNEST(hits) as h\n",
    "    WHERE _table_suffix BETWEEN '20160801'\n",
    "                            AND '20170801'\n",
    "    AND visitNumber = 1                             \n",
    "    AND h.eCommerceAction.action_type='6'\n",
    "    GROUP BY fullVisitorId\n",
    "    \n",
    "        \"\"\"\n",
    "    \n",
    "    query_job = client.query(my_query, job_config=job_config)  # Make an API request.\n",
    "    results = query_job.result()  # Wait for the job to complete.\n",
    "\n",
    "    print(\"Query results loaded to the table {}\".format(table_id))\n",
    " \n",
    "    l=[]\n",
    "    for row in results:\n",
    "        l.append([row.fullVisitorId,\\\n",
    "                  row.visitStartTime,\\\n",
    "                  row.timeConvert])\n",
    "    df_time = pd.DataFrame(l,columns=['fullVisitorId',\\\n",
    "                                      'visitStartTime',\\\n",
    "                                      'timeConvert'\n",
    "                                      ])\n",
    "    #df_time['dt_visitStartTime'] = [datetime.datetime.fromtimestamp(x) for x in df_time['visitStartTime']]\n",
    "    #df_time['dt_timeConvert'] = df_time['timeConvert'].apply(convert_from_ms)\n",
    "\n",
    "    return df_time "
   ]
  },
  {
   "cell_type": "code",
   "execution_count": 15,
   "id": "fcac7734",
   "metadata": {},
   "outputs": [
    {
     "name": "stdout",
     "output_type": "stream",
     "text": [
      "Created table leafy-habitat-233611.VisitorsConversion.VisitorsConv\n",
      "Query results loaded to the table leafy-habitat-233611.VisitorsConversion.VisitorsConv\n"
     ]
    },
    {
     "data": {
      "text/html": [
       "<div>\n",
       "<style scoped>\n",
       "    .dataframe tbody tr th:only-of-type {\n",
       "        vertical-align: middle;\n",
       "    }\n",
       "\n",
       "    .dataframe tbody tr th {\n",
       "        vertical-align: top;\n",
       "    }\n",
       "\n",
       "    .dataframe thead th {\n",
       "        text-align: right;\n",
       "    }\n",
       "</style>\n",
       "<table border=\"1\" class=\"dataframe\">\n",
       "  <thead>\n",
       "    <tr style=\"text-align: right;\">\n",
       "      <th></th>\n",
       "      <th>fullVisitorId</th>\n",
       "      <th>visitStartTime</th>\n",
       "      <th>timeConvert</th>\n",
       "    </tr>\n",
       "  </thead>\n",
       "  <tbody>\n",
       "    <tr>\n",
       "      <th>0</th>\n",
       "      <td>5953034565631333907</td>\n",
       "      <td>2016-11-21 08:00:23+00:00</td>\n",
       "      <td>1970-01-01 00:00:00+00:00</td>\n",
       "    </tr>\n",
       "    <tr>\n",
       "      <th>1</th>\n",
       "      <td>7145708421804262334</td>\n",
       "      <td>2016-08-02 17:36:20+00:00</td>\n",
       "      <td>1970-01-01 00:34:23.008000+00:00</td>\n",
       "    </tr>\n",
       "    <tr>\n",
       "      <th>2</th>\n",
       "      <td>8917539256990829389</td>\n",
       "      <td>2016-08-09 01:36:59+00:00</td>\n",
       "      <td>1970-01-01 00:41:52.192000+00:00</td>\n",
       "    </tr>\n",
       "    <tr>\n",
       "      <th>3</th>\n",
       "      <td>0544953081124286184</td>\n",
       "      <td>2016-12-11 13:43:59+00:00</td>\n",
       "      <td>1970-01-01 00:13:10.496000+00:00</td>\n",
       "    </tr>\n",
       "    <tr>\n",
       "      <th>4</th>\n",
       "      <td>5223960407923320522</td>\n",
       "      <td>2016-09-01 18:18:25+00:00</td>\n",
       "      <td>1970-01-01 00:35:44.864000+00:00</td>\n",
       "    </tr>\n",
       "    <tr>\n",
       "      <th>...</th>\n",
       "      <td>...</td>\n",
       "      <td>...</td>\n",
       "      <td>...</td>\n",
       "    </tr>\n",
       "    <tr>\n",
       "      <th>4467</th>\n",
       "      <td>9382046690457797406</td>\n",
       "      <td>2016-08-15 07:21:25+00:00</td>\n",
       "      <td>1970-01-01 00:29:28.747000+00:00</td>\n",
       "    </tr>\n",
       "    <tr>\n",
       "      <th>4468</th>\n",
       "      <td>0301972032250850193</td>\n",
       "      <td>2017-03-04 21:08:40+00:00</td>\n",
       "      <td>1970-01-01 00:15:22.219000+00:00</td>\n",
       "    </tr>\n",
       "    <tr>\n",
       "      <th>4469</th>\n",
       "      <td>0152778576197288117</td>\n",
       "      <td>2017-01-31 05:31:00+00:00</td>\n",
       "      <td>1970-01-01 00:07:37.963000+00:00</td>\n",
       "    </tr>\n",
       "    <tr>\n",
       "      <th>4470</th>\n",
       "      <td>4174008402411981050</td>\n",
       "      <td>2017-01-31 23:03:20+00:00</td>\n",
       "      <td>1970-01-01 00:08:40.683000+00:00</td>\n",
       "    </tr>\n",
       "    <tr>\n",
       "      <th>4471</th>\n",
       "      <td>5889911900700312712</td>\n",
       "      <td>2016-11-03 17:20:59+00:00</td>\n",
       "      <td>1970-01-01 00:17:07.211000+00:00</td>\n",
       "    </tr>\n",
       "  </tbody>\n",
       "</table>\n",
       "<p>4472 rows × 3 columns</p>\n",
       "</div>"
      ],
      "text/plain": [
       "            fullVisitorId            visitStartTime  \\\n",
       "0     5953034565631333907 2016-11-21 08:00:23+00:00   \n",
       "1     7145708421804262334 2016-08-02 17:36:20+00:00   \n",
       "2     8917539256990829389 2016-08-09 01:36:59+00:00   \n",
       "3     0544953081124286184 2016-12-11 13:43:59+00:00   \n",
       "4     5223960407923320522 2016-09-01 18:18:25+00:00   \n",
       "...                   ...                       ...   \n",
       "4467  9382046690457797406 2016-08-15 07:21:25+00:00   \n",
       "4468  0301972032250850193 2017-03-04 21:08:40+00:00   \n",
       "4469  0152778576197288117 2017-01-31 05:31:00+00:00   \n",
       "4470  4174008402411981050 2017-01-31 23:03:20+00:00   \n",
       "4471  5889911900700312712 2016-11-03 17:20:59+00:00   \n",
       "\n",
       "                          timeConvert  \n",
       "0           1970-01-01 00:00:00+00:00  \n",
       "1    1970-01-01 00:34:23.008000+00:00  \n",
       "2    1970-01-01 00:41:52.192000+00:00  \n",
       "3    1970-01-01 00:13:10.496000+00:00  \n",
       "4    1970-01-01 00:35:44.864000+00:00  \n",
       "...                               ...  \n",
       "4467 1970-01-01 00:29:28.747000+00:00  \n",
       "4468 1970-01-01 00:15:22.219000+00:00  \n",
       "4469 1970-01-01 00:07:37.963000+00:00  \n",
       "4470 1970-01-01 00:08:40.683000+00:00  \n",
       "4471 1970-01-01 00:17:07.211000+00:00  \n",
       "\n",
       "[4472 rows x 3 columns]"
      ]
     },
     "execution_count": 15,
     "metadata": {},
     "output_type": "execute_result"
    }
   ],
   "source": [
    "query_conv_time()"
   ]
  },
  {
   "cell_type": "code",
   "execution_count": null,
   "id": "621005ba",
   "metadata": {},
   "outputs": [],
   "source": []
  },
  {
   "cell_type": "code",
   "execution_count": null,
   "id": "f1fa36d2",
   "metadata": {},
   "outputs": [],
   "source": []
  }
 ],
 "metadata": {
  "kernelspec": {
   "display_name": "Python 3 (ipykernel)",
   "language": "python",
   "name": "python3"
  },
  "language_info": {
   "codemirror_mode": {
    "name": "ipython",
    "version": 3
   },
   "file_extension": ".py",
   "mimetype": "text/x-python",
   "name": "python",
   "nbconvert_exporter": "python",
   "pygments_lexer": "ipython3",
   "version": "3.9.7"
  }
 },
 "nbformat": 4,
 "nbformat_minor": 5
}
